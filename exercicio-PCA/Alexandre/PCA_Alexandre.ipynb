{
 "cells": [
  {
   "cell_type": "markdown",
   "metadata": {},
   "source": [
    "# Exercício - Agrupamento\n",
    "### Autor: Alexandre Marcondes\n",
    "\n",
    "\n",
    "* Refaça a analise do exercicio de classificacao supervisionada, incluindo o PCA.\n",
    "* Plote a curva explained_variance_ratio para encontrar uma quantidade de componentes que explique perto de 90% da variancia\n",
    "---"
   ]
  },
  {
   "cell_type": "markdown",
   "metadata": {},
   "source": [
    "### Bibliotecas"
   ]
  },
  {
   "cell_type": "code",
   "execution_count": 11,
   "metadata": {},
   "outputs": [],
   "source": [
    "# Bibliotecas\n",
    "import numpy as np\n",
    "import matplotlib.pyplot as plt\n",
    "from sklearn.datasets import make_classification\n",
    "import seaborn as sns\n",
    "\n",
    "from sklearn import preprocessing\n",
    "from sklearn.metrics import confusion_matrix, precision_score, recall_score, f1_score, roc_curve, roc_auc_score, classification_report\n",
    "\n",
    "from sklearn.linear_model import LogisticRegression\n",
    "\n",
    "from sklearn.naive_bayes import GaussianNB\n",
    "\n",
    "#Classificadores Lineares\n",
    "from sklearn.linear_model import SGDClassifier\n",
    "from sklearn.linear_model import RidgeClassifier\n",
    "from sklearn.linear_model import LogisticRegression\n",
    "\n",
    "#Classificadores KNN\n",
    "from sklearn.neighbors import KNeighborsClassifier\n",
    "\n",
    "#Classificadores Naive Nayes\n",
    "from sklearn.naive_bayes import MultinomialNB\n",
    "\n",
    "#Classificadores Arvores de Decisão\n",
    "from sklearn.tree import DecisionTreeClassifier\n",
    "\n",
    "#SVM\n",
    "from sklearn.svm import SVC\n",
    "\n",
    "from sklearn.model_selection import train_test_split\n",
    "\n",
    "from sklearn import preprocessing\n",
    "from sklearn.metrics import confusion_matrix, precision_score, recall_score, f1_score, roc_curve, roc_auc_score, classification_report\n",
    "\n",
    "from sklearn.preprocessing import StandardScaler\n",
    "\n",
    "import pandas as pd\n",
    "import numpy as np\n",
    "\n",
    "import matplotlib.pyplot as plt\n",
    "import math\n",
    "\n",
    "from sklearn import linear_model\n",
    "from scipy.special import expit\n",
    "\n",
    "from sklearn.metrics import confusion_matrix\n",
    "import scipy\n",
    "from scipy.io import arff\n",
    "\n",
    "import numpy as np\n",
    "from sklearn.datasets import fetch_olivetti_faces\n",
    "from sklearn.svm import SVC\n",
    "#from sklearn.cross_validation import train_test_split\n",
    "from sklearn.preprocessing import StandardScaler\n",
    "from sklearn.pipeline import Pipeline\n",
    "from sklearn.metrics import accuracy_score\n",
    "from sklearn.pipeline import Pipeline, FeatureUnion, make_pipeline\n",
    "# from sklearn.externals import joblib\n",
    "\n",
    "from sklearn.model_selection import GridSearchCV, RandomizedSearchCV\n",
    "from sklearn.model_selection import KFold, cross_val_score, LeaveOneOut\n",
    "from sklearn.cluster import KMeans"
   ]
  },
  {
   "cell_type": "markdown",
   "metadata": {},
   "source": [
    "### Dados"
   ]
  },
  {
   "cell_type": "code",
   "execution_count": 24,
   "metadata": {},
   "outputs": [
    {
     "data": {
      "text/plain": [
       "Index(['id_vei', 'id_uo_vei', 'id_motorista', 'id_uo_motorista',\n",
       "       'distancia_percorrida_km', 'qtd_banguela', 'qtd_curvas',\n",
       "       'qtd_aceleracoes', 'qtd_frenagens', 'qtd_vel_faixa_1',\n",
       "       'qtd_vel_faixa_2', 'qtd_vel_faixa_3', 'tempo_vel_faixa_1',\n",
       "       'tempo_vel_faixa_2', 'tempo_vel_faixa_3', 'qtd_vel_via_faixa_1',\n",
       "       'qtd_vel_via_faixa_2', 'qtd_vel_via_faixa_3', 'tempo_vel_via_faixa_1',\n",
       "       'tempo_vel_via_faixa_2', 'tempo_vel_via_faixa_3',\n",
       "       'qtd_manuseio_celular', 'qtd_fadiga_motorista',\n",
       "       'qtd_distracao_motorista', 'qtd_uso_cigarro', 'score_geral', 'rank'],\n",
       "      dtype='object')"
      ]
     },
     "execution_count": 24,
     "metadata": {},
     "output_type": "execute_result"
    }
   ],
   "source": [
    "drivers = pd.read_csv('vigencias_scores.csv')\n",
    "drivers.columns"
   ]
  },
  {
   "cell_type": "code",
   "execution_count": 28,
   "metadata": {},
   "outputs": [
    {
     "data": {
      "text/plain": [
       "(12642, 22)"
      ]
     },
     "execution_count": 28,
     "metadata": {},
     "output_type": "execute_result"
    }
   ],
   "source": [
    "drivers = drivers.drop(['id_uo_vei','id_vei','id_uo_motorista','id_motorista','score_geral'],axis=1)\n",
    "drivers.shape"
   ]
  },
  {
   "cell_type": "code",
   "execution_count": 30,
   "metadata": {},
   "outputs": [
    {
     "data": {
      "text/html": [
       "<div>\n",
       "<style scoped>\n",
       "    .dataframe tbody tr th:only-of-type {\n",
       "        vertical-align: middle;\n",
       "    }\n",
       "\n",
       "    .dataframe tbody tr th {\n",
       "        vertical-align: top;\n",
       "    }\n",
       "\n",
       "    .dataframe thead th {\n",
       "        text-align: right;\n",
       "    }\n",
       "</style>\n",
       "<table border=\"1\" class=\"dataframe\">\n",
       "  <thead>\n",
       "    <tr style=\"text-align: right;\">\n",
       "      <th></th>\n",
       "      <th>distancia_percorrida_km</th>\n",
       "      <th>qtd_banguela</th>\n",
       "      <th>qtd_curvas</th>\n",
       "      <th>qtd_aceleracoes</th>\n",
       "      <th>qtd_frenagens</th>\n",
       "      <th>qtd_vel_faixa_1</th>\n",
       "      <th>qtd_vel_faixa_2</th>\n",
       "      <th>qtd_vel_faixa_3</th>\n",
       "      <th>tempo_vel_faixa_1</th>\n",
       "      <th>tempo_vel_faixa_2</th>\n",
       "      <th>...</th>\n",
       "      <th>qtd_vel_via_faixa_2</th>\n",
       "      <th>qtd_vel_via_faixa_3</th>\n",
       "      <th>tempo_vel_via_faixa_1</th>\n",
       "      <th>tempo_vel_via_faixa_2</th>\n",
       "      <th>tempo_vel_via_faixa_3</th>\n",
       "      <th>qtd_manuseio_celular</th>\n",
       "      <th>qtd_fadiga_motorista</th>\n",
       "      <th>qtd_distracao_motorista</th>\n",
       "      <th>qtd_uso_cigarro</th>\n",
       "      <th>rank</th>\n",
       "    </tr>\n",
       "  </thead>\n",
       "  <tbody>\n",
       "    <tr>\n",
       "      <th>0</th>\n",
       "      <td>234.420</td>\n",
       "      <td>0.0</td>\n",
       "      <td>0.0</td>\n",
       "      <td>0.0</td>\n",
       "      <td>0.0</td>\n",
       "      <td>0.0</td>\n",
       "      <td>0.0</td>\n",
       "      <td>0.0</td>\n",
       "      <td>0.0</td>\n",
       "      <td>0.0</td>\n",
       "      <td>...</td>\n",
       "      <td>0.0</td>\n",
       "      <td>1.0</td>\n",
       "      <td>208.0</td>\n",
       "      <td>0.0</td>\n",
       "      <td>1456.0</td>\n",
       "      <td>0.0</td>\n",
       "      <td>0.0</td>\n",
       "      <td>0.0</td>\n",
       "      <td>0.0</td>\n",
       "      <td>ruim</td>\n",
       "    </tr>\n",
       "    <tr>\n",
       "      <th>1</th>\n",
       "      <td>114.083</td>\n",
       "      <td>0.0</td>\n",
       "      <td>0.0</td>\n",
       "      <td>0.0</td>\n",
       "      <td>4.0</td>\n",
       "      <td>0.0</td>\n",
       "      <td>0.0</td>\n",
       "      <td>0.0</td>\n",
       "      <td>0.0</td>\n",
       "      <td>0.0</td>\n",
       "      <td>...</td>\n",
       "      <td>0.0</td>\n",
       "      <td>0.0</td>\n",
       "      <td>0.0</td>\n",
       "      <td>0.0</td>\n",
       "      <td>0.0</td>\n",
       "      <td>0.0</td>\n",
       "      <td>0.0</td>\n",
       "      <td>0.0</td>\n",
       "      <td>0.0</td>\n",
       "      <td>regular</td>\n",
       "    </tr>\n",
       "    <tr>\n",
       "      <th>2</th>\n",
       "      <td>183.725</td>\n",
       "      <td>0.0</td>\n",
       "      <td>0.0</td>\n",
       "      <td>0.0</td>\n",
       "      <td>0.0</td>\n",
       "      <td>0.0</td>\n",
       "      <td>0.0</td>\n",
       "      <td>0.0</td>\n",
       "      <td>0.0</td>\n",
       "      <td>0.0</td>\n",
       "      <td>...</td>\n",
       "      <td>0.0</td>\n",
       "      <td>0.0</td>\n",
       "      <td>0.0</td>\n",
       "      <td>0.0</td>\n",
       "      <td>0.0</td>\n",
       "      <td>0.0</td>\n",
       "      <td>0.0</td>\n",
       "      <td>0.0</td>\n",
       "      <td>0.0</td>\n",
       "      <td>otimo</td>\n",
       "    </tr>\n",
       "    <tr>\n",
       "      <th>3</th>\n",
       "      <td>702.525</td>\n",
       "      <td>0.0</td>\n",
       "      <td>0.0</td>\n",
       "      <td>0.0</td>\n",
       "      <td>3.0</td>\n",
       "      <td>0.0</td>\n",
       "      <td>0.0</td>\n",
       "      <td>0.0</td>\n",
       "      <td>0.0</td>\n",
       "      <td>0.0</td>\n",
       "      <td>...</td>\n",
       "      <td>0.0</td>\n",
       "      <td>1.0</td>\n",
       "      <td>0.0</td>\n",
       "      <td>0.0</td>\n",
       "      <td>0.0</td>\n",
       "      <td>0.0</td>\n",
       "      <td>0.0</td>\n",
       "      <td>0.0</td>\n",
       "      <td>0.0</td>\n",
       "      <td>otimo</td>\n",
       "    </tr>\n",
       "    <tr>\n",
       "      <th>4</th>\n",
       "      <td>175.290</td>\n",
       "      <td>0.0</td>\n",
       "      <td>0.0</td>\n",
       "      <td>1.0</td>\n",
       "      <td>3.0</td>\n",
       "      <td>0.0</td>\n",
       "      <td>0.0</td>\n",
       "      <td>0.0</td>\n",
       "      <td>0.0</td>\n",
       "      <td>0.0</td>\n",
       "      <td>...</td>\n",
       "      <td>2.0</td>\n",
       "      <td>1.0</td>\n",
       "      <td>0.0</td>\n",
       "      <td>0.0</td>\n",
       "      <td>0.0</td>\n",
       "      <td>0.0</td>\n",
       "      <td>0.0</td>\n",
       "      <td>0.0</td>\n",
       "      <td>0.0</td>\n",
       "      <td>bom</td>\n",
       "    </tr>\n",
       "  </tbody>\n",
       "</table>\n",
       "<p>5 rows × 22 columns</p>\n",
       "</div>"
      ],
      "text/plain": [
       "   distancia_percorrida_km  qtd_banguela  qtd_curvas  qtd_aceleracoes  \\\n",
       "0                  234.420           0.0         0.0              0.0   \n",
       "1                  114.083           0.0         0.0              0.0   \n",
       "2                  183.725           0.0         0.0              0.0   \n",
       "3                  702.525           0.0         0.0              0.0   \n",
       "4                  175.290           0.0         0.0              1.0   \n",
       "\n",
       "   qtd_frenagens  qtd_vel_faixa_1  qtd_vel_faixa_2  qtd_vel_faixa_3  \\\n",
       "0            0.0              0.0              0.0              0.0   \n",
       "1            4.0              0.0              0.0              0.0   \n",
       "2            0.0              0.0              0.0              0.0   \n",
       "3            3.0              0.0              0.0              0.0   \n",
       "4            3.0              0.0              0.0              0.0   \n",
       "\n",
       "   tempo_vel_faixa_1  tempo_vel_faixa_2  ...  qtd_vel_via_faixa_2  \\\n",
       "0                0.0                0.0  ...                  0.0   \n",
       "1                0.0                0.0  ...                  0.0   \n",
       "2                0.0                0.0  ...                  0.0   \n",
       "3                0.0                0.0  ...                  0.0   \n",
       "4                0.0                0.0  ...                  2.0   \n",
       "\n",
       "   qtd_vel_via_faixa_3  tempo_vel_via_faixa_1  tempo_vel_via_faixa_2  \\\n",
       "0                  1.0                  208.0                    0.0   \n",
       "1                  0.0                    0.0                    0.0   \n",
       "2                  0.0                    0.0                    0.0   \n",
       "3                  1.0                    0.0                    0.0   \n",
       "4                  1.0                    0.0                    0.0   \n",
       "\n",
       "   tempo_vel_via_faixa_3  qtd_manuseio_celular  qtd_fadiga_motorista  \\\n",
       "0                 1456.0                   0.0                   0.0   \n",
       "1                    0.0                   0.0                   0.0   \n",
       "2                    0.0                   0.0                   0.0   \n",
       "3                    0.0                   0.0                   0.0   \n",
       "4                    0.0                   0.0                   0.0   \n",
       "\n",
       "   qtd_distracao_motorista  qtd_uso_cigarro     rank  \n",
       "0                      0.0              0.0     ruim  \n",
       "1                      0.0              0.0  regular  \n",
       "2                      0.0              0.0    otimo  \n",
       "3                      0.0              0.0    otimo  \n",
       "4                      0.0              0.0      bom  \n",
       "\n",
       "[5 rows x 22 columns]"
      ]
     },
     "execution_count": 30,
     "metadata": {},
     "output_type": "execute_result"
    }
   ],
   "source": [
    "drivers.head()"
   ]
  },
  {
   "cell_type": "code",
   "execution_count": 31,
   "metadata": {},
   "outputs": [
    {
     "name": "stdout",
     "output_type": "stream",
     "text": [
      "(12642,)\n",
      "(12642, 21)\n"
     ]
    }
   ],
   "source": [
    "y = drivers.loc[:,'rank']\n",
    "X = drivers.drop(['rank'],axis=1)\n",
    "print(y.shape)\n",
    "print(X.shape)"
   ]
  },
  {
   "cell_type": "markdown",
   "metadata": {},
   "source": [
    "### Classificação utilizando Kmeans"
   ]
  },
  {
   "cell_type": "code",
   "execution_count": 32,
   "metadata": {},
   "outputs": [
    {
     "name": "stdout",
     "output_type": "stream",
     "text": [
      "[[  90   70    1   16    5]\n",
      " [  24 1557    0    6    0]\n",
      " [   3    0   21    1   85]\n",
      " [  54   48    1   80   25]\n",
      " [  15    3   23   28  373]]\n",
      "              precision    recall  f1-score   support\n",
      "\n",
      "         bom       0.48      0.49      0.49       182\n",
      "       otimo       0.93      0.98      0.95      1587\n",
      "     pessimo       0.46      0.19      0.27       110\n",
      "     regular       0.61      0.38      0.47       208\n",
      "        ruim       0.76      0.84      0.80       442\n",
      "\n",
      "    accuracy                           0.84      2529\n",
      "   macro avg       0.65      0.58      0.60      2529\n",
      "weighted avg       0.82      0.84      0.82      2529\n",
      "\n"
     ]
    }
   ],
   "source": [
    "X_train, X_test, y_train, y_test = train_test_split(X,y, test_size=0.2)\n",
    "\n",
    "knn_clf = KNeighborsClassifier(n_neighbors=5)\n",
    "\n",
    "knn_clf.fit(X_train, y_train)\n",
    "\n",
    "y_pred = knn_clf.predict(X_test)\n",
    "\n",
    "cm = confusion_matrix(y_test, y_pred)\n",
    "\n",
    "print(cm)\n",
    "print(classification_report(y_test, y_pred))"
   ]
  },
  {
   "cell_type": "markdown",
   "metadata": {},
   "source": [
    "### Classificação com PCA"
   ]
  },
  {
   "cell_type": "code",
   "execution_count": 33,
   "metadata": {},
   "outputs": [
    {
     "name": "stdout",
     "output_type": "stream",
     "text": [
      "[[  81   89    0   19    6]\n",
      " [  39 1512    0    9    1]\n",
      " [   6    1   19    3   94]\n",
      " [  31   85    1   34   22]\n",
      " [  15    3   31   31  397]]\n",
      "              precision    recall  f1-score   support\n",
      "\n",
      "         bom       0.47      0.42      0.44       195\n",
      "       otimo       0.89      0.97      0.93      1561\n",
      "     pessimo       0.37      0.15      0.22       123\n",
      "     regular       0.35      0.20      0.25       173\n",
      "        ruim       0.76      0.83      0.80       477\n",
      "\n",
      "    accuracy                           0.81      2529\n",
      "   macro avg       0.57      0.51      0.53      2529\n",
      "weighted avg       0.77      0.81      0.79      2529\n",
      "\n"
     ]
    }
   ],
   "source": [
    "from sklearn.decomposition import PCA\n",
    "\n",
    "pca = PCA(8)\n",
    "pca.fit(X)\n",
    "XPCA = pca.transform(X)\n",
    "\n",
    "X_train, X_test, y_train, y_test = train_test_split(XPCA,y, test_size=0.2)\n",
    "\n",
    "knn_clf = KNeighborsClassifier(n_neighbors=5)\n",
    "\n",
    "knn_clf.fit(X_train, y_train)\n",
    "\n",
    "y_pred = knn_clf.predict(X_test)\n",
    "\n",
    "cm = confusion_matrix(y_test, y_pred)\n",
    "\n",
    "print(cm)\n",
    "print(classification_report(y_test, y_pred))"
   ]
  },
  {
   "cell_type": "code",
   "execution_count": 34,
   "metadata": {},
   "outputs": [
    {
     "data": {
      "image/png": "[encoded data removed]",
      "text/plain": [
       "<Figure size 432x288 with 1 Axes>"
      ]
     },
     "metadata": {
      "needs_background": "light"
     },
     "output_type": "display_data"
    }
   ],
   "source": [
    "pca = PCA().fit(drivers.drop(['rank'],axis=1))\n",
    "plt.plot(np.cumsum(pca.explained_variance_ratio_))\n",
    "plt.xlabel('number of components')\n",
    "plt.ylabel('cumulative explained variance');"
   ]
  },
  {
   "cell_type": "markdown",
   "metadata": {},
   "source": [
    "O número de features é aproximadamente 8. Mais features podem ser utilizadas, porém não terá tanta influência na acurácia obtida pelo modelo."
   ]
  },
  {
   "cell_type": "markdown",
   "metadata": {},
   "source": [
    "### Criação de pipeline com PCA"
   ]
  },
  {
   "cell_type": "code",
   "execution_count": 60,
   "metadata": {},
   "outputs": [
    {
     "name": "stdout",
     "output_type": "stream",
     "text": [
      "Best Criterion: gini\n",
      "Best max_depth: 21\n",
      "Best Number Of Components: 14\n"
     ]
    }
   ],
   "source": [
    "#  Divisão em dataset de treino e teste\n",
    "X_train, X_test, y_train, y_test = train_test_split(X,y, test_size=0.2)\n",
    "\n",
    "pca = PCA()\n",
    "tree = DecisionTreeClassifier()\n",
    "\n",
    "# Criação da pipeline\n",
    "pipe_tree = Pipeline(steps=[('pca', pca),  # Redução de dimensão\n",
    "                            ('tree', tree)  # Algoritmo classificador\n",
    "                           ],\n",
    "                     verbose=False\n",
    "                    )\n",
    "\n",
    "#  Fit do modelo com a pipeline criada\n",
    "# pipe_tree.fit(X_train,y_train)\n",
    "#  Predição do modelo\n",
    "# y_pred = pipe_tree.predict(X_test)\n",
    "\n",
    "#  Grid search\n",
    "tree_criterion_list = ['gini','entropy']\n",
    "tree_depth_list = list(range(0,30))\n",
    "pca_components_list = list(range(0,15))\n",
    "\n",
    "params = {'pca__n_components':pca_components_list,\n",
    "          'tree__criterion':tree_criterion_list,\n",
    "          'tree__max_depth':tree_depth_list}\n",
    "\n",
    "clf = GridSearchCV(estimator=pipe_tree,\n",
    "                   param_grid=params,\n",
    "                   verbose=0,\n",
    "                   n_jobs=-1)\n",
    "\n",
    "clf.fit(X_train,y_train)\n",
    "\n",
    "print('Best Criterion:', clf.best_estimator_.get_params()['tree__criterion'])\n",
    "print('Best max_depth:', clf.best_estimator_.get_params()['tree__max_depth'])\n",
    "print('Best Number Of Components:', clf.best_estimator_.get_params()['pca__n_components'])"
   ]
  },
  {
   "cell_type": "code",
   "execution_count": 61,
   "metadata": {},
   "outputs": [
    {
     "name": "stdout",
     "output_type": "stream",
     "text": [
      "[[ 145   37    1   17    7]\n",
      " [  39 1487    0    1    1]\n",
      " [   2    0   79    2   27]\n",
      " [  24    9    2  117   19]\n",
      " [   9    4   22   29  449]]\n",
      "              precision    recall  f1-score   support\n",
      "\n",
      "         bom       0.66      0.70      0.68       207\n",
      "       otimo       0.97      0.97      0.97      1528\n",
      "     pessimo       0.76      0.72      0.74       110\n",
      "     regular       0.70      0.68      0.69       171\n",
      "        ruim       0.89      0.88      0.88       513\n",
      "\n",
      "    accuracy                           0.90      2529\n",
      "   macro avg       0.80      0.79      0.79      2529\n",
      "weighted avg       0.90      0.90      0.90      2529\n",
      "\n"
     ]
    }
   ],
   "source": [
    "y_pred = clf.predict(X_test)\n",
    "#  Exibição dos resultados\n",
    "cm = confusion_matrix(y_test, y_pred)\n",
    "print(cm)\n",
    "print(classification_report(y_test, y_pred))"
   ]
  }
 ],
 "metadata": {
  "kernelspec": {
   "display_name": "Python 3",
   "language": "python",
   "name": "python3"
  },
  "language_info": {
   "codemirror_mode": {
    "name": "ipython",
    "version": 3
   },
   "file_extension": ".py",
   "mimetype": "text/x-python",
   "name": "python",
   "nbconvert_exporter": "python",
   "pygments_lexer": "ipython3",
   "version": "3.7.6"
  }
 },
 "nbformat": 4,
 "nbformat_minor": 4
}
